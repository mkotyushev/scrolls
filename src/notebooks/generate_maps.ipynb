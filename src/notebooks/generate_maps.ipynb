{
 "cells": [
  {
   "attachments": {},
   "cell_type": "markdown",
   "metadata": {},
   "source": [
    "Could be used to generate maps & plot them. Usage: place to root dir (`scrolls`) and run."
   ]
  },
  {
   "cell_type": "code",
   "execution_count": 1,
   "metadata": {},
   "outputs": [
    {
     "name": "stdout",
     "output_type": "stream",
     "text": [
      "100%|█████████████████████████████████████████| 524/524 [02:46<00:00,  3.15it/s]\n",
      "100%|███████████████████████████████████████| 1661/1661 [08:43<00:00,  3.18it/s]\n",
      "100%|█████████████████████████████████████████| 453/453 [02:21<00:00,  3.21it/s]\n",
      "100%|█████████████████████████████████████████| 524/524 [02:43<00:00,  3.20it/s]\n",
      "100%|███████████████████████████████████████| 1661/1661 [09:21<00:00,  2.96it/s]\n",
      "100%|█████████████████████████████████████████| 453/453 [02:27<00:00,  3.08it/s]\n",
      "100%|█████████████████████████████████████████| 524/524 [03:08<00:00,  2.78it/s]\n",
      "100%|███████████████████████████████████████| 1661/1661 [11:22<00:00,  2.43it/s]\n",
      "  3%|█▍                                        | 15/453 [00:14<02:28,  2.94it/s]"
     ]
    }
   ],
   "source": [
    "patch_size = 512\n",
    "overlap_divider = 4\n",
    "models = [\n",
    "    'no_y', \n",
    "    'independent_y_scale', \n",
    "    'independent_y_shift_scale', \n",
    "    'beer_lambert_law',\n",
    "    'beer_lambert_law_independent_y_shift',\n",
    "]\n",
    "fragment_ids = [1, 2, 3]\n",
    "\n",
    "for model in models:\n",
    "    for fragment_id in fragment_ids:\n",
    "        output_dir = f'maps/{fragment_id}/model_{model}/patch_size_{patch_size}/overlap_divider_{overlap_divider}'\n",
    "        !python src/scripts/z_shift_scale/build_maps.py --input_dir /workspace/data/fragments/train/{fragment_id} --downscaled_input_dir /workspace/data/fragments_downscaled_2/train/{fragment_id} --output_dir {output_dir} --patch_size {patch_size} --downscale_factor 2 --overlap_divider {overlap_divider} --model {model}"
   ]
  },
  {
   "cell_type": "code",
   "execution_count": null,
   "metadata": {},
   "outputs": [],
   "source": [
    "import os\n",
    "import matplotlib.pyplot as plt\n",
    "import numpy as np\n",
    "from matplotlib.backends.backend_pdf import PdfPages\n",
    "\n",
    "output_dirs = []\n",
    "for model in models:\n",
    "    for fragment_id in fragment_ids:\n",
    "        output_dir = f'/workspace/scrolls/maps/{fragment_id}/model_{model}/patch_size_{patch_size}/overlap_divider_{overlap_divider}'\n",
    "        output_dirs.append(output_dir)\n",
    "\n",
    "with PdfPages('/workspace/scrolls/maps/plots.pdf') as pdf:\n",
    "    for output_dir in output_dirs:\n",
    "        if not os.path.exists(f'{output_dir}/build_maps_args.txt'):\n",
    "            continue\n",
    "\n",
    "        with open(f'{output_dir}/build_maps_args.txt', 'r') as f:\n",
    "            run_command = f.read()\n",
    "        z_scale = np.load(f'{output_dir}/z_scale.npy')\n",
    "        z_shift = np.load(f'{output_dir}/z_shift.npy')\n",
    "        y_shift = np.load(f'{output_dir}/y_shift.npy')\n",
    "        y_scale = np.load(f'{output_dir}/y_scale.npy')\n",
    "\n",
    "        print(run_command)\n",
    "\n",
    "        fig, axes = plt.subplots(2, 4, figsize=(15, 10))\n",
    "        axes[0, 0].imshow(z_scale)\n",
    "        axes[0, 0].set_title('z_scale')\n",
    "        axes[0, 1].imshow(z_shift)\n",
    "        axes[0, 1].set_title('z_shift')\n",
    "        axes[0, 2].imshow(y_scale)\n",
    "        axes[0, 2].set_title('y_scale')\n",
    "        axes[0, 3].imshow(y_shift)\n",
    "        axes[0, 3].set_title('y_shift')\n",
    "        axes[1, 0].hist(z_scale.flatten(), bins=100)\n",
    "        axes[1, 0].set_title('z_scale hist')\n",
    "        axes[1, 1].hist(z_shift.flatten(), bins=100)\n",
    "        axes[1, 1].set_title('z_shift hist')\n",
    "        axes[1, 2].hist(y_scale.flatten(), bins=100)\n",
    "        axes[1, 2].set_title('y_scale hist')\n",
    "        axes[1, 3].hist(y_shift.flatten(), bins=100)\n",
    "        axes[1, 3].set_title('y_shift hist')\n",
    "        fig.set_tight_layout(True)\n",
    "        fig.suptitle(output_dir.split('/workspace/scrolls/maps/')[1])\n",
    "        pdf.savefig(fig)"
   ]
  }
 ],
 "metadata": {
  "kernelspec": {
   "display_name": "scrolls",
   "language": "python",
   "name": "python3"
  },
  "language_info": {
   "codemirror_mode": {
    "name": "ipython",
    "version": 3
   },
   "file_extension": ".py",
   "mimetype": "text/x-python",
   "name": "python",
   "nbconvert_exporter": "python",
   "pygments_lexer": "ipython3",
   "version": "3.10.11"
  },
  "orig_nbformat": 4
 },
 "nbformat": 4,
 "nbformat_minor": 2
}
